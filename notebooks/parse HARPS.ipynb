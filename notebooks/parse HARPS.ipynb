{
 "cells": [
  {
   "cell_type": "markdown",
   "metadata": {},
   "source": [
    "## parsing harps website\n",
    "\n",
    "* [HARPS bank](http://www.mpia.de/homes/trifonov/HARPS_RVBank.html)"
   ]
  },
  {
   "cell_type": "code",
   "execution_count": 2,
   "metadata": {},
   "outputs": [],
   "source": [
    "from urllib.request import urlopen, urlretrieve\n",
    "from os.path import exists\n",
    "from os.path import join\n",
    "import sys\n",
    "\n",
    "import pandas as pd\n",
    "from astropy import units as u\n",
    "from astropy.coordinates import SkyCoord\n",
    "from astropy.coordinates import match_coordinates_3d\n",
    "from astropy.io import ascii\n",
    "\n",
    "\n",
    "import sys\n",
    "sys.path.append('..')\n",
    "import archive_digger as ad"
   ]
  },
  {
   "cell_type": "code",
   "execution_count": 4,
   "metadata": {},
   "outputs": [
    {
     "name": "stdout",
     "output_type": "stream",
     "text": [
      "Loaded: ../data/harps_db.csv\n"
     ]
    }
   ],
   "source": [
    "df = ad.get_harps_database(clobber=False)"
   ]
  },
  {
   "cell_type": "code",
   "execution_count": 3,
   "metadata": {},
   "outputs": [
    {
     "name": "stdout",
     "output_type": "stream",
     "text": [
      "\n",
      "Querying objects within 1\" of ra,dec=(279.272,5.292)\n",
      "\n",
      "Nearest HARPS obj to target is\n",
      "BD+053829: ra,dec=(279.2717,5.2921)\n",
      "\n",
      "Try larger angular distance than d=1.0633\"\n",
      "\n"
     ]
    }
   ],
   "source": [
    "ra=279.272#+2/60\n",
    "dec=5.292#+2/60\n",
    "\n",
    "target = SkyCoord(ra=ra, dec=dec, unit=u.deg)\n",
    "res = ad.query_target(target, df, dist=1)\n",
    "res"
   ]
  },
  {
   "cell_type": "code",
   "execution_count": 4,
   "metadata": {},
   "outputs": [
    {
     "name": "stdout",
     "output_type": "stream",
     "text": [
      "Loaded: ../data/TOIs.csv\n",
      "\n",
      "Querying objects within 10\" of ra,dec=(279.272,5.292)\n",
      "\n",
      "There are 1 matches: ['BD+053829']\n",
      "                                                                      0\n",
      "Data product plots                                  BD+053829_plots.pdf\n",
      "Pre-upgrade DRS                            BD+053829_harps_pre-drs.vels\n",
      "Post-upgrade DRS                                                    NaN\n",
      "Pre-upgrade standard SERVAL             BD+053829_harps_pre-serval.vels\n",
      "Post-upgrade standard SERVAL                                        NaN\n",
      "Pre-upgrade mlc SERVAL (use these)  BD+053829_harps_pre_serval-mlc.vels\n",
      "Post-upgrade mlc SERVAL(use these)                                  NaN\n"
     ]
    },
    {
     "data": {
      "text/html": [
       "<div>\n",
       "<style scoped>\n",
       "    .dataframe tbody tr th:only-of-type {\n",
       "        vertical-align: middle;\n",
       "    }\n",
       "\n",
       "    .dataframe tbody tr th {\n",
       "        vertical-align: top;\n",
       "    }\n",
       "\n",
       "    .dataframe thead th {\n",
       "        text-align: right;\n",
       "    }\n",
       "</style>\n",
       "<table border=\"1\" class=\"dataframe\">\n",
       "  <thead>\n",
       "    <tr style=\"text-align: right;\">\n",
       "      <th></th>\n",
       "      <th>Target</th>\n",
       "      <th>RA</th>\n",
       "      <th>DEC</th>\n",
       "      <th>Sp. Type</th>\n",
       "      <th>T_eff [K]</th>\n",
       "      <th>V [mag]</th>\n",
       "      <th>G [mag]</th>\n",
       "      <th>Data product plots</th>\n",
       "      <th>Pre-upgrade DRS</th>\n",
       "      <th>Post-upgrade DRS</th>\n",
       "      <th>Pre-upgrade standard SERVAL</th>\n",
       "      <th>Post-upgrade standard SERVAL</th>\n",
       "      <th>Pre-upgrade mlc SERVAL (use these)</th>\n",
       "      <th>Post-upgrade mlc SERVAL(use these)</th>\n",
       "      <th>RA_deg</th>\n",
       "      <th>DEC_deg</th>\n",
       "    </tr>\n",
       "  </thead>\n",
       "  <tbody>\n",
       "    <tr>\n",
       "      <th>0</th>\n",
       "      <td>BD+053829</td>\n",
       "      <td>18:37:05.2146</td>\n",
       "      <td>+05:17:31.620</td>\n",
       "      <td>G5</td>\n",
       "      <td>4872.9</td>\n",
       "      <td>9.8</td>\n",
       "      <td>9.4</td>\n",
       "      <td>BD+053829_plots.pdf</td>\n",
       "      <td>BD+053829_harps_pre-drs.vels</td>\n",
       "      <td>NaN</td>\n",
       "      <td>BD+053829_harps_pre-serval.vels</td>\n",
       "      <td>NaN</td>\n",
       "      <td>BD+053829_harps_pre_serval-mlc.vels</td>\n",
       "      <td>NaN</td>\n",
       "      <td>279.271727</td>\n",
       "      <td>5.292117</td>\n",
       "    </tr>\n",
       "  </tbody>\n",
       "</table>\n",
       "</div>"
      ],
      "text/plain": [
       "      Target             RA            DEC Sp. Type  T_eff [K]  V [mag]  \\\n",
       "0  BD+053829  18:37:05.2146  +05:17:31.620       G5     4872.9      9.8   \n",
       "\n",
       "   G [mag]   Data product plots               Pre-upgrade DRS  \\\n",
       "0      9.4  BD+053829_plots.pdf  BD+053829_harps_pre-drs.vels   \n",
       "\n",
       "  Post-upgrade DRS      Pre-upgrade standard SERVAL  \\\n",
       "0              NaN  BD+053829_harps_pre-serval.vels   \n",
       "\n",
       "  Post-upgrade standard SERVAL   Pre-upgrade mlc SERVAL (use these)  \\\n",
       "0                          NaN  BD+053829_harps_pre_serval-mlc.vels   \n",
       "\n",
       "  Post-upgrade mlc SERVAL(use these)      RA_deg   DEC_deg  \n",
       "0                                NaN  279.271727  5.292117  "
      ]
     },
     "execution_count": 4,
     "metadata": {},
     "output_type": "execute_result"
    }
   ],
   "source": [
    "toi = 704.01\n",
    "q = ad.query_toi(toi=toi, tic=None, clobber=False)\n",
    "r = q['RA'].values[0]\n",
    "d = q['Dec'].values[0]\n",
    "target_coord = SkyCoord(ra=r, dec=d, unit=(u.hourangle, u.deg))\n",
    "res = ad.query_target(target, df, dist=10)\n",
    "res"
   ]
  },
  {
   "cell_type": "code",
   "execution_count": 5,
   "metadata": {},
   "outputs": [
    {
     "data": {
      "text/plain": [
       "Index(['Target', 'RA', 'DEC', 'Sp. Type', 'T_eff [K]', 'V [mag]', 'G [mag]',\n",
       "       'Data product plots', 'Pre-upgrade DRS', 'Post-upgrade DRS',\n",
       "       'Pre-upgrade standard SERVAL', 'Post-upgrade standard SERVAL',\n",
       "       'Pre-upgrade mlc SERVAL (use these)',\n",
       "       'Post-upgrade mlc SERVAL(use these)', 'RA_deg', 'DEC_deg'],\n",
       "      dtype='object')"
      ]
     },
     "execution_count": 5,
     "metadata": {},
     "output_type": "execute_result"
    }
   ],
   "source": [
    "res.columns"
   ]
  },
  {
   "cell_type": "code",
   "execution_count": 6,
   "metadata": {},
   "outputs": [
    {
     "data": {
      "text/plain": [
       "['Data product plots',\n",
       " 'Pre-upgrade DRS',\n",
       " 'Post-upgrade DRS',\n",
       " 'Pre-upgrade standard SERVAL',\n",
       " 'Post-upgrade standard SERVAL',\n",
       " 'Pre-upgrade mlc SERVAL (use these)',\n",
       " 'Post-upgrade mlc SERVAL(use these)']"
      ]
     },
     "execution_count": 6,
     "metadata": {},
     "output_type": "execute_result"
    }
   ],
   "source": [
    "ad.ALL_DATA_PRODUCTS"
   ]
  },
  {
   "cell_type": "code",
   "execution_count": 7,
   "metadata": {},
   "outputs": [
    {
     "name": "stdout",
     "output_type": "stream",
     "text": [
      "Downloading http://www.mpia.de/homes/trifonov/BD+053829_RVs/BD+053829_harps_pre-drs.vels [Done]\n"
     ]
    },
    {
     "data": {
      "text/html": [
       "<div>\n",
       "<style scoped>\n",
       "    .dataframe tbody tr th:only-of-type {\n",
       "        vertical-align: middle;\n",
       "    }\n",
       "\n",
       "    .dataframe tbody tr th {\n",
       "        vertical-align: top;\n",
       "    }\n",
       "\n",
       "    .dataframe thead th {\n",
       "        text-align: right;\n",
       "    }\n",
       "</style>\n",
       "<table border=\"1\" class=\"dataframe\">\n",
       "  <thead>\n",
       "    <tr style=\"text-align: right;\">\n",
       "      <th></th>\n",
       "      <th>col1</th>\n",
       "      <th>col2</th>\n",
       "      <th>col3</th>\n",
       "    </tr>\n",
       "  </thead>\n",
       "  <tbody>\n",
       "    <tr>\n",
       "      <th>0</th>\n",
       "      <td>2453450.873</td>\n",
       "      <td>-25653.956</td>\n",
       "      <td>0.885</td>\n",
       "    </tr>\n",
       "    <tr>\n",
       "      <th>1</th>\n",
       "      <td>2453462.868</td>\n",
       "      <td>-25647.876</td>\n",
       "      <td>0.999</td>\n",
       "    </tr>\n",
       "    <tr>\n",
       "      <th>2</th>\n",
       "      <td>2453499.801</td>\n",
       "      <td>-25644.227</td>\n",
       "      <td>4.456</td>\n",
       "    </tr>\n",
       "    <tr>\n",
       "      <th>3</th>\n",
       "      <td>2453500.744</td>\n",
       "      <td>-25652.905</td>\n",
       "      <td>1.558</td>\n",
       "    </tr>\n",
       "    <tr>\n",
       "      <th>4</th>\n",
       "      <td>2453521.740</td>\n",
       "      <td>-25643.707</td>\n",
       "      <td>1.247</td>\n",
       "    </tr>\n",
       "    <tr>\n",
       "      <th>5</th>\n",
       "      <td>2453593.690</td>\n",
       "      <td>-25653.209</td>\n",
       "      <td>1.276</td>\n",
       "    </tr>\n",
       "    <tr>\n",
       "      <th>6</th>\n",
       "      <td>2456454.807</td>\n",
       "      <td>-25653.637</td>\n",
       "      <td>1.066</td>\n",
       "    </tr>\n",
       "    <tr>\n",
       "      <th>7</th>\n",
       "      <td>2456525.632</td>\n",
       "      <td>-25648.987</td>\n",
       "      <td>2.957</td>\n",
       "    </tr>\n",
       "    <tr>\n",
       "      <th>8</th>\n",
       "      <td>2456538.589</td>\n",
       "      <td>-25651.804</td>\n",
       "      <td>1.071</td>\n",
       "    </tr>\n",
       "  </tbody>\n",
       "</table>\n",
       "</div>"
      ],
      "text/plain": [
       "          col1       col2   col3\n",
       "0  2453450.873 -25653.956  0.885\n",
       "1  2453462.868 -25647.876  0.999\n",
       "2  2453499.801 -25644.227  4.456\n",
       "3  2453500.744 -25652.905  1.558\n",
       "4  2453521.740 -25643.707  1.247\n",
       "5  2453593.690 -25653.209  1.276\n",
       "6  2456454.807 -25653.637  1.066\n",
       "7  2456525.632 -25648.987  2.957\n",
       "8  2456538.589 -25651.804  1.071"
      ]
     },
     "execution_count": 7,
     "metadata": {},
     "output_type": "execute_result"
    }
   ],
   "source": [
    "r = res.iloc[0]\n",
    "rv = ad.get_rv(r, col='Pre-upgrade DRS', return_fp=False)\n",
    "rv"
   ]
  },
  {
   "cell_type": "raw",
   "metadata": {},
   "source": [
    "df.to_csv?"
   ]
  },
  {
   "cell_type": "markdown",
   "metadata": {},
   "source": [
    "## finder chart"
   ]
  },
  {
   "cell_type": "code",
   "execution_count": 65,
   "metadata": {},
   "outputs": [
    {
     "data": {
      "text/plain": [
       "(91.08983333333332, -55.31158611111111)"
      ]
     },
     "execution_count": 65,
     "metadata": {},
     "output_type": "execute_result"
    }
   ],
   "source": [
    "target_coord = SkyCoord(ra=r, dec=d, unit=(u.hourangle, u.deg))\n",
    "target_coord.ra.deg, target_coord.dec.deg"
   ]
  },
  {
   "cell_type": "code",
   "execution_count": 7,
   "metadata": {},
   "outputs": [
    {
     "data": {
      "text/html": [
       "<div>\n",
       "<style scoped>\n",
       "    .dataframe tbody tr th:only-of-type {\n",
       "        vertical-align: middle;\n",
       "    }\n",
       "\n",
       "    .dataframe tbody tr th {\n",
       "        vertical-align: top;\n",
       "    }\n",
       "\n",
       "    .dataframe thead th {\n",
       "        text-align: right;\n",
       "    }\n",
       "</style>\n",
       "<table border=\"1\" class=\"dataframe\">\n",
       "  <thead>\n",
       "    <tr style=\"text-align: right;\">\n",
       "      <th></th>\n",
       "      <th>Target</th>\n",
       "      <th>RA</th>\n",
       "      <th>DEC</th>\n",
       "      <th>Sp. Type</th>\n",
       "      <th>T_eff [K]</th>\n",
       "      <th>V [mag]</th>\n",
       "      <th>G [mag]</th>\n",
       "      <th>Data product plots</th>\n",
       "      <th>Pre-upgrade DRS</th>\n",
       "      <th>Post-upgrade DRS</th>\n",
       "      <th>Pre-upgrade standard SERVAL</th>\n",
       "      <th>Post-upgrade standard SERVAL</th>\n",
       "      <th>Pre-upgrade mlc SERVAL (use these)</th>\n",
       "      <th>Post-upgrade mlc SERVAL(use these)</th>\n",
       "      <th>RA_deg</th>\n",
       "      <th>DEC_deg</th>\n",
       "    </tr>\n",
       "  </thead>\n",
       "  <tbody>\n",
       "    <tr>\n",
       "      <th>661</th>\n",
       "      <td>GJ9201</td>\n",
       "      <td>06:04:20.3587</td>\n",
       "      <td>-55:18:46.838</td>\n",
       "      <td>M2.5V</td>\n",
       "      <td>NaN</td>\n",
       "      <td>12.1</td>\n",
       "      <td>11.2</td>\n",
       "      <td>GJ9201_plots.pdf</td>\n",
       "      <td>GJ9201_harps_pre-drs.vels</td>\n",
       "      <td>NaN</td>\n",
       "      <td>GJ9201_harps_pre-serval.vels</td>\n",
       "      <td>NaN</td>\n",
       "      <td>GJ9201_harps_pre_serval-mlc.vels</td>\n",
       "      <td>NaN</td>\n",
       "      <td>91.084828</td>\n",
       "      <td>-55.313011</td>\n",
       "    </tr>\n",
       "    <tr>\n",
       "      <th>2879</th>\n",
       "      <td>TYC8525-1314-1</td>\n",
       "      <td>06:04:20.3587</td>\n",
       "      <td>-55:18:46.838</td>\n",
       "      <td>M2.5V</td>\n",
       "      <td>NaN</td>\n",
       "      <td>12.1</td>\n",
       "      <td>11.2</td>\n",
       "      <td>TYC8525-1314-1_plots.pdf</td>\n",
       "      <td>TYC8525-1314-1_harps_pre-drs.vels</td>\n",
       "      <td>NaN</td>\n",
       "      <td>TYC8525-1314-1_harps_pre-serval.vels</td>\n",
       "      <td>NaN</td>\n",
       "      <td>TYC8525-1314-1_harps_pre_serval-mlc.vels</td>\n",
       "      <td>NaN</td>\n",
       "      <td>91.084828</td>\n",
       "      <td>-55.313011</td>\n",
       "    </tr>\n",
       "  </tbody>\n",
       "</table>\n",
       "</div>"
      ],
      "text/plain": [
       "              Target             RA            DEC Sp. Type  T_eff [K]  \\\n",
       "661           GJ9201  06:04:20.3587  -55:18:46.838    M2.5V        NaN   \n",
       "2879  TYC8525-1314-1  06:04:20.3587  -55:18:46.838    M2.5V        NaN   \n",
       "\n",
       "      V [mag]  G [mag]        Data product plots  \\\n",
       "661      12.1     11.2          GJ9201_plots.pdf   \n",
       "2879     12.1     11.2  TYC8525-1314-1_plots.pdf   \n",
       "\n",
       "                        Pre-upgrade DRS Post-upgrade DRS  \\\n",
       "661           GJ9201_harps_pre-drs.vels              NaN   \n",
       "2879  TYC8525-1314-1_harps_pre-drs.vels              NaN   \n",
       "\n",
       "               Pre-upgrade standard SERVAL Post-upgrade standard SERVAL  \\\n",
       "661           GJ9201_harps_pre-serval.vels                          NaN   \n",
       "2879  TYC8525-1314-1_harps_pre-serval.vels                          NaN   \n",
       "\n",
       "            Pre-upgrade mlc SERVAL (use these)  \\\n",
       "661           GJ9201_harps_pre_serval-mlc.vels   \n",
       "2879  TYC8525-1314-1_harps_pre_serval-mlc.vels   \n",
       "\n",
       "     Post-upgrade mlc SERVAL(use these)     RA_deg    DEC_deg  \n",
       "661                                 NaN  91.084828 -55.313011  \n",
       "2879                                NaN  91.084828 -55.313011  "
      ]
     },
     "execution_count": 7,
     "metadata": {},
     "output_type": "execute_result"
    }
   ],
   "source": [
    "res"
   ]
  },
  {
   "cell_type": "code",
   "execution_count": 44,
   "metadata": {},
   "outputs": [
    {
     "name": "stdout",
     "output_type": "stream",
     "text": [
      "Loaded: ../data/TOIs.csv\n",
      "Downloading https://skyview.gsfc.nasa.gov/tempspace/fits/skv712786400433.fits [Done]\n"
     ]
    },
    {
     "data": {
      "text/plain": [
       "<matplotlib.legend.Legend at 0x7fbb704e6dd8>"
      ]
     },
     "execution_count": 44,
     "metadata": {},
     "output_type": "execute_result"
    },
    {
     "data": {
      "image/png": "[encoded data removed]",
      "text/plain": [
       "<Figure size 432x288 with 1 Axes>"
      ]
     },
     "metadata": {},
     "output_type": "display_data"
    }
   ],
   "source": [
    "%matplotlib inline\n",
    "from astroplan.plots import plot_finder_image\n",
    "import matplotlib.pyplot as pl\n",
    "from astropy.visualization.wcsaxes import SphericalCircle\n",
    "import matplotlib.cm as cm\n",
    "from collections import OrderedDict\n",
    "import numpy as np\n",
    "\n",
    "toi = 704.01\n",
    "ang_dist = 30*u.arcsec\n",
    "fov_rad = 120*u.arcsec\n",
    "survey='DSS2 Red'\n",
    "\n",
    "q = ad.query_toi(toi=toi, tic=None, clobber=False)\n",
    "r = q['RA'].values[0]\n",
    "d = q['Dec'].values[0]\n",
    "target_coord = SkyCoord(ra=r, dec=d, unit=(u.hourangle, u.deg))\n",
    "#convert hms to degree\n",
    "target_coord = SkyCoord(target_coord.ra.deg, target_coord.dec.deg, unit=u.deg)\n",
    "res = ad.query_target(target_coord, df, dist=ang_dist, verbose=False)\n",
    "\n",
    "nearest_obj = res['Target'].values[0]\n",
    "nearest_obj_ra,nearest_obj_dec =res[['RA_deg','DEC_deg']].values[0]\n",
    "nearest_obj_coord = SkyCoord(ra=nearest_obj_ra, dec=nearest_obj_dec, unit=u.deg)\n",
    "\n",
    "#target in reticle\n",
    "ax,hdu=plot_finder_image(target_coord,fov_radius=fov_rad,reticle=True,survey=survey,reticle_style_kwargs={'label':'target'})\n",
    "c = SphericalCircle((nearest_obj_ra, nearest_obj_dec)*u.deg, ang_dist, edgecolor='green', facecolor='none',\n",
    "              transform=ax.get_transform('icrs'), label='query radius')\n",
    "ax.set_title('{} ({})'.format(survey,nearest_obj))\n",
    "ax.add_patch(c)\n",
    "\n",
    "#harps objects within angular distance\n",
    "coords = SkyCoord(ra=res['RA_deg'], dec=res['DEC_deg'], unit=u.deg)\n",
    "sep2d = target_coord.separation(coords)\n",
    "\n",
    "idxs = sep2d < ang_dist\n",
    "colors = cm.rainbow(np.linspace(0, 1, idxs.sum()))\n",
    "\n",
    "if len(coords[idxs])>1:\n",
    "    for n,(coord,color) in enumerate(zip(coords[idxs],colors)):\n",
    "        ax.scatter(coord.ra.deg, coord.dec.deg, transform=ax.get_transform('fk5'), s=300,\n",
    "           marker='s', edgecolor=color, facecolor='none',label=res.loc[idxs,'Target'].values[n])\n",
    "else:\n",
    "    ax.scatter(coords.ra.deg, coords.dec.deg, transform=ax.get_transform('fk5'), s=300,\n",
    "           marker='s', edgecolor='blue', facecolor='none',label=res['Target'])\n",
    "\n",
    "handles, labels = pl.gca().get_legend_handles_labels()\n",
    "by_label = OrderedDict(zip(labels, handles))\n",
    "pl.legend(by_label.values(), by_label.keys())"
   ]
  },
  {
   "cell_type": "raw",
   "metadata": {},
   "source": [
    "from os.path import isdir \n",
    "from os import makedirs\n",
    "\n",
    "outdir = None\n",
    "if outdir is None:\n",
    "    outdir = nearest_obj\n",
    "else:\n",
    "    #save with folder name==ticid \n",
    "    if res['ticid'] is not None:\n",
    "        outdir = join(outdir,'tic'+str(res['ticid']))\n",
    "#         elif res['toi'] is not None:\n",
    "#             outdir = join(outdir,str(res['toi']).split('.')[0])\n",
    "    else:\n",
    "        outdir = join(outdir,nearest_obj)\n",
    "if not isdir(outdir):\n",
    "    makedirs(outdir)\n",
    "    \n",
    "fp = join(outdir,'{}_fov.png'.format(nearest_obj))\n",
    "ax.figure.savefig(fp,bbox_inches=False)"
   ]
  },
  {
   "cell_type": "code",
   "execution_count": null,
   "metadata": {},
   "outputs": [],
   "source": []
  }
 ],
 "metadata": {
  "kernelspec": {
   "display_name": "Python 3",
   "language": "python",
   "name": "python3"
  },
  "language_info": {
   "codemirror_mode": {
    "name": "ipython",
    "version": 3
   },
   "file_extension": ".py",
   "mimetype": "text/x-python",
   "name": "python",
   "nbconvert_exporter": "python",
   "pygments_lexer": "ipython3",
   "version": "3.6.2"
  }
 },
 "nbformat": 4,
 "nbformat_minor": 2
}

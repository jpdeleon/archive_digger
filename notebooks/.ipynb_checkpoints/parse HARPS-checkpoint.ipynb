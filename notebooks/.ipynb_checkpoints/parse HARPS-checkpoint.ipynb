{
 "cells": [
  {
   "cell_type": "markdown",
   "metadata": {},
   "source": [
    "## \n",
    "\n",
    "* [HARPS bank](http://www.mpia.de/homes/trifonov/HARPS_RVBank.html)"
   ]
  },
  {
   "cell_type": "code",
   "execution_count": 1,
   "metadata": {},
   "outputs": [],
   "source": [
    "from urllib.request import urlopen, urlretrieve\n",
    "from os.path import exists\n",
    "from os.path import join\n",
    "import sys\n",
    "\n",
    "import pandas as pd\n",
    "from astropy import units as u\n",
    "from astropy.coordinates import SkyCoord\n",
    "from astropy.coordinates import match_coordinates_3d\n",
    "from astropy.io import ascii\n",
    "\n",
    "\n",
    "BASE = 'http://www.mpia.de/homes/trifonov/'\n",
    "URL = BASE+'HARPS_RVBank.html'\n",
    "\n",
    "def get_harps_database(clobber=False):\n",
    "    fp = 'harps_db.csv'\n",
    "    if not exists(fp) or clobber:    \n",
    "        #scrape html table\n",
    "        table = pd.read_html(url, header=0)\n",
    "        #choose first table\n",
    "        df = table[0]\n",
    "    #     #define column names\n",
    "    #     df.columns = df.loc[0].values\n",
    "    #     #remove duplicate row\n",
    "    #     df = df.drop(0,axis=0)\n",
    "\n",
    "        #coordinates\n",
    "        coords = SkyCoord(ra=df['RA'], dec=df['DEC'], unit=(u.hourangle,u.deg))\n",
    "        df['RA_deg'] = coords.ra.deg\n",
    "        df['DEC_deg'] = coords.dec.deg\n",
    "\n",
    "        #save\n",
    "        df.to_csv(fp,index=False)\n",
    "        print('Saved: {}'.format(fp))\n",
    "    else:\n",
    "        df = pd.read_csv(fp)\n",
    "        \n",
    "    return df"
   ]
  },
  {
   "cell_type": "code",
   "execution_count": 2,
   "metadata": {},
   "outputs": [],
   "source": [
    "df = get_harps_database(clobber=False)"
   ]
  },
  {
   "cell_type": "code",
   "execution_count": 3,
   "metadata": {},
   "outputs": [],
   "source": [
    "target = SkyCoord(ra=289, dec=5.2921, unit=u.deg)\n",
    "\n",
    "def query_target(target, df, dist=1, unit=u.arcsec, verbose=False):\n",
    "    coords = SkyCoord(ra=df['RA_deg'], dec=df['DEC_deg'], unit=u.deg)\n",
    "    idx, sep2d, dist3d = match_coordinates_3d(target, catalogcoord=coords, nthneighbor=1)\n",
    "    #search distance\n",
    "    dist = dist*unit\n",
    "\n",
    "    if dist3d*unit < dist:\n",
    "        res = df.iloc[[idx]]\n",
    "        if verbose:\n",
    "            print(df.loc[[idx],df.columns[7:14]])\n",
    "        return res\n",
    "    \n",
    "    else:\n",
    "        nearest_obj = df.iloc[[idx]]['Target']\n",
    "        print('Nearest HARPS obj to target is {} (d={}\\')'.format(nearest_obj,dist3d))\n",
    "        return None"
   ]
  },
  {
   "cell_type": "code",
   "execution_count": 4,
   "metadata": {},
   "outputs": [
    {
     "data": {
      "text/html": [
       "<div>\n",
       "<style scoped>\n",
       "    .dataframe tbody tr th:only-of-type {\n",
       "        vertical-align: middle;\n",
       "    }\n",
       "\n",
       "    .dataframe tbody tr th {\n",
       "        vertical-align: top;\n",
       "    }\n",
       "\n",
       "    .dataframe thead th {\n",
       "        text-align: right;\n",
       "    }\n",
       "</style>\n",
       "<table border=\"1\" class=\"dataframe\">\n",
       "  <thead>\n",
       "    <tr style=\"text-align: right;\">\n",
       "      <th></th>\n",
       "      <th>Target</th>\n",
       "      <th>RA</th>\n",
       "      <th>DEC</th>\n",
       "      <th>Sp. Type</th>\n",
       "      <th>T_eff [K]</th>\n",
       "      <th>V [mag]</th>\n",
       "      <th>G [mag]</th>\n",
       "      <th>Data product plots</th>\n",
       "      <th>Pre-upgrade DRS</th>\n",
       "      <th>Post-upgrade DRS</th>\n",
       "      <th>Pre-upgrade standard SERVAL</th>\n",
       "      <th>Post-upgrade standard SERVAL</th>\n",
       "      <th>Pre-upgrade mlc SERVAL (use these)</th>\n",
       "      <th>Post-upgrade mlc SERVAL(use these)</th>\n",
       "      <th>RA_deg</th>\n",
       "      <th>DEC_deg</th>\n",
       "    </tr>\n",
       "  </thead>\n",
       "  <tbody>\n",
       "    <tr>\n",
       "      <th>555</th>\n",
       "      <td>GJ752</td>\n",
       "      <td>19:16:55.2565</td>\n",
       "      <td>+05:10:08.038</td>\n",
       "      <td>M3-V</td>\n",
       "      <td>NaN</td>\n",
       "      <td>9.1</td>\n",
       "      <td>8.1</td>\n",
       "      <td>NaN</td>\n",
       "      <td>GJ752_harps_pre-drs.vels</td>\n",
       "      <td>GJ752_harps_post-drs.vels</td>\n",
       "      <td>GJ752_harps_pre-serval.vels</td>\n",
       "      <td>GJ752_harps_post-serval.vels</td>\n",
       "      <td>GJ752_harps_pre_serval-mlc.vels</td>\n",
       "      <td>GJ752_harps_post_serval-mlc.vels</td>\n",
       "      <td>289.230235</td>\n",
       "      <td>5.168899</td>\n",
       "    </tr>\n",
       "  </tbody>\n",
       "</table>\n",
       "</div>"
      ],
      "text/plain": [
       "    Target             RA            DEC Sp. Type  T_eff [K]  V [mag]  \\\n",
       "555  GJ752  19:16:55.2565  +05:10:08.038     M3-V        NaN      9.1   \n",
       "\n",
       "     G [mag] Data product plots           Pre-upgrade DRS  \\\n",
       "555      8.1                NaN  GJ752_harps_pre-drs.vels   \n",
       "\n",
       "              Post-upgrade DRS  Pre-upgrade standard SERVAL  \\\n",
       "555  GJ752_harps_post-drs.vels  GJ752_harps_pre-serval.vels   \n",
       "\n",
       "     Post-upgrade standard SERVAL Pre-upgrade mlc SERVAL (use these)  \\\n",
       "555  GJ752_harps_post-serval.vels    GJ752_harps_pre_serval-mlc.vels   \n",
       "\n",
       "    Post-upgrade mlc SERVAL(use these)      RA_deg   DEC_deg  \n",
       "555   GJ752_harps_post_serval-mlc.vels  289.230235  5.168899  "
      ]
     },
     "execution_count": 4,
     "metadata": {},
     "output_type": "execute_result"
    }
   ],
   "source": [
    "res = query_target(target)\n",
    "res"
   ]
  },
  {
   "cell_type": "code",
   "execution_count": 5,
   "metadata": {},
   "outputs": [
    {
     "data": {
      "text/plain": [
       "Index(['Target', 'RA', 'DEC', 'Sp. Type', 'T_eff [K]', 'V [mag]', 'G [mag]',\n",
       "       'Data product plots', 'Pre-upgrade DRS', 'Post-upgrade DRS',\n",
       "       'Pre-upgrade standard SERVAL', 'Post-upgrade standard SERVAL',\n",
       "       'Pre-upgrade mlc SERVAL (use these)',\n",
       "       'Post-upgrade mlc SERVAL(use these)', 'RA_deg', 'DEC_deg'],\n",
       "      dtype='object')"
      ]
     },
     "execution_count": 5,
     "metadata": {},
     "output_type": "execute_result"
    }
   ],
   "source": [
    "df.columns"
   ]
  },
  {
   "cell_type": "code",
   "execution_count": 6,
   "metadata": {},
   "outputs": [
    {
     "data": {
      "text/plain": [
       "array(['Data product plots', 'Pre-upgrade DRS', 'Post-upgrade DRS',\n",
       "       'Pre-upgrade standard SERVAL', 'Post-upgrade standard SERVAL',\n",
       "       'Pre-upgrade mlc SERVAL (use these)',\n",
       "       'Post-upgrade mlc SERVAL(use these)'], dtype=object)"
      ]
     },
     "execution_count": 6,
     "metadata": {},
     "output_type": "execute_result"
    }
   ],
   "source": [
    "all_data_products_names = res.columns[7:14].values\n",
    "all_data_products_names"
   ]
  },
  {
   "cell_type": "code",
   "execution_count": 7,
   "metadata": {},
   "outputs": [],
   "source": [
    "def get_rv(res, col='Pre-upgrade DRS'):\n",
    "    assert col in all_data_products_names\n",
    "    if col=='Data product plots':\n",
    "        return NotImplementedError\n",
    "    else:\n",
    "        folder = res['Target'].values[0]+'_RVs'\n",
    "        filename = res[col].values[0]\n",
    "        rv = ascii.read(join(BASE,folder,filename)).to_pandas()\n",
    "    #     rv.columns = 'BJD RV RV_err'.split()\n",
    "        return rv"
   ]
  },
  {
   "cell_type": "code",
   "execution_count": 8,
   "metadata": {},
   "outputs": [
    {
     "data": {
      "text/html": [
       "<div>\n",
       "<style scoped>\n",
       "    .dataframe tbody tr th:only-of-type {\n",
       "        vertical-align: middle;\n",
       "    }\n",
       "\n",
       "    .dataframe tbody tr th {\n",
       "        vertical-align: top;\n",
       "    }\n",
       "\n",
       "    .dataframe thead th {\n",
       "        text-align: right;\n",
       "    }\n",
       "</style>\n",
       "<table border=\"1\" class=\"dataframe\">\n",
       "  <thead>\n",
       "    <tr style=\"text-align: right;\">\n",
       "      <th></th>\n",
       "      <th>col1</th>\n",
       "      <th>col2</th>\n",
       "      <th>col3</th>\n",
       "    </tr>\n",
       "  </thead>\n",
       "  <tbody>\n",
       "    <tr>\n",
       "      <th>0</th>\n",
       "      <td>2453159.811</td>\n",
       "      <td>36063.832</td>\n",
       "      <td>0.465</td>\n",
       "    </tr>\n",
       "    <tr>\n",
       "      <th>1</th>\n",
       "      <td>2453517.840</td>\n",
       "      <td>36065.588</td>\n",
       "      <td>0.400</td>\n",
       "    </tr>\n",
       "    <tr>\n",
       "      <th>2</th>\n",
       "      <td>2453572.766</td>\n",
       "      <td>36067.027</td>\n",
       "      <td>1.118</td>\n",
       "    </tr>\n",
       "    <tr>\n",
       "      <th>3</th>\n",
       "      <td>2453573.723</td>\n",
       "      <td>36063.506</td>\n",
       "      <td>0.373</td>\n",
       "    </tr>\n",
       "    <tr>\n",
       "      <th>4</th>\n",
       "      <td>2453574.686</td>\n",
       "      <td>36062.942</td>\n",
       "      <td>0.300</td>\n",
       "    </tr>\n",
       "  </tbody>\n",
       "</table>\n",
       "</div>"
      ],
      "text/plain": [
       "          col1       col2   col3\n",
       "0  2453159.811  36063.832  0.465\n",
       "1  2453517.840  36065.588  0.400\n",
       "2  2453572.766  36067.027  1.118\n",
       "3  2453573.723  36063.506  0.373\n",
       "4  2453574.686  36062.942  0.300"
      ]
     },
     "execution_count": 8,
     "metadata": {},
     "output_type": "execute_result"
    }
   ],
   "source": [
    "rv = get_rv(res)\n",
    "rv.head()"
   ]
  },
  {
   "cell_type": "code",
   "execution_count": null,
   "metadata": {},
   "outputs": [],
   "source": []
  }
 ],
 "metadata": {
  "kernelspec": {
   "display_name": "Python 3",
   "language": "python",
   "name": "python3"
  },
  "language_info": {
   "codemirror_mode": {
    "name": "ipython",
    "version": 3
   },
   "file_extension": ".py",
   "mimetype": "text/x-python",
   "name": "python",
   "nbconvert_exporter": "python",
   "pygments_lexer": "ipython3",
   "version": "3.6.1"
  }
 },
 "nbformat": 4,
 "nbformat_minor": 2
}

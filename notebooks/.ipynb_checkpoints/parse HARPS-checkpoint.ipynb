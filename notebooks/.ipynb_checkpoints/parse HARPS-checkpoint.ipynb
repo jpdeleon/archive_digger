{
 "cells": [
  {
   "cell_type": "markdown",
   "metadata": {},
   "source": [
    "## parsing harps website\n",
    "\n",
    "* [HARPS bank](http://www.mpia.de/homes/trifonov/HARPS_RVBank.html)"
   ]
  },
  {
   "cell_type": "code",
   "execution_count": 82,
   "metadata": {},
   "outputs": [],
   "source": [
    "from urllib.request import urlopen, urlretrieve\n",
    "from os.path import exists\n",
    "from os.path import join\n",
    "import sys\n",
    "\n",
    "import pandas as pd\n",
    "from astropy import units as u\n",
    "from astropy.coordinates import SkyCoord\n",
    "from astropy.coordinates import match_coordinates_3d\n",
    "from astropy.io import ascii\n",
    "\n",
    "\n",
    "BASE = 'http://www.mpia.de/homes/trifonov/'\n",
    "URL = BASE+'HARPS_RVBank.html'\n",
    "\n",
    "def get_harps_database(clobber=False):\n",
    "    fp = 'harps_db.csv'\n",
    "    if not exists(fp) or clobber:    \n",
    "        #scrape html table\n",
    "        table = pd.read_html(url, header=0)\n",
    "        #choose first table\n",
    "        df = table[0]\n",
    "    #     #define column names\n",
    "    #     df.columns = df.loc[0].values\n",
    "    #     #remove duplicate row\n",
    "    #     df = df.drop(0,axis=0)\n",
    "\n",
    "        #coordinates\n",
    "        coords = SkyCoord(ra=df['RA'], dec=df['DEC'], unit=(u.hourangle,u.deg))\n",
    "        df['RA_deg'] = coords.ra.deg\n",
    "        df['DEC_deg'] = coords.dec.deg\n",
    "\n",
    "        #save\n",
    "        df.to_csv(fp,index=False)\n",
    "        print('Saved: {}'.format(fp))\n",
    "    else:\n",
    "        df = pd.read_csv(fp)\n",
    "        \n",
    "    return df"
   ]
  },
  {
   "cell_type": "code",
   "execution_count": 2,
   "metadata": {},
   "outputs": [],
   "source": [
    "df = get_harps_database(clobber=False)"
   ]
  },
  {
   "cell_type": "code",
   "execution_count": 128,
   "metadata": {},
   "outputs": [],
   "source": [
    "def query_target(target, df, dist=1, unit=u.arcsec, verbose=False):\n",
    "    coords = SkyCoord(ra=df['RA_deg'], dec=df['DEC_deg'], unit=u.deg)\n",
    "    \n",
    "    idxs = target.separation(coords)<dist*unit\n",
    "    #search distance\n",
    "    if idxs.sum() > 0:\n",
    "        res = df[idxs]\n",
    "        if verbose:\n",
    "            print(df.loc[idxs,df.columns[7:14]])\n",
    "        return res\n",
    "    \n",
    "    else:\n",
    "        idx, sep2d, dist3d = match_coordinates_3d(target, coords, nthneighbor=1)\n",
    "        nearest_obj = df.iloc[[idx]]['Target'].values[0]\n",
    "        print('Nearest HARPS obj to target is {} (d={}\\\")'.format(nearest_obj,sep2d.arcsec[0]))\n",
    "        return None"
   ]
  },
  {
   "cell_type": "code",
   "execution_count": 129,
   "metadata": {},
   "outputs": [
    {
     "name": "stdout",
     "output_type": "stream",
     "text": [
      "Nearest HARPS obj to target is BD+053829 (d=1.0632846949151857\")\n"
     ]
    }
   ],
   "source": [
    "ra=279.272#+2/60\n",
    "dec=5.292#+2/60\n",
    "\n",
    "target = SkyCoord(ra=ra, dec=dec, unit=u.deg)\n",
    "res = query_target(target, df, dist=1)\n",
    "res"
   ]
  },
  {
   "cell_type": "code",
   "execution_count": 5,
   "metadata": {},
   "outputs": [
    {
     "data": {
      "text/plain": [
       "Index(['Target', 'RA', 'DEC', 'Sp. Type', 'T_eff [K]', 'V [mag]', 'G [mag]',\n",
       "       'Data product plots', 'Pre-upgrade DRS', 'Post-upgrade DRS',\n",
       "       'Pre-upgrade standard SERVAL', 'Post-upgrade standard SERVAL',\n",
       "       'Pre-upgrade mlc SERVAL (use these)',\n",
       "       'Post-upgrade mlc SERVAL(use these)', 'RA_deg', 'DEC_deg'],\n",
       "      dtype='object')"
      ]
     },
     "execution_count": 5,
     "metadata": {},
     "output_type": "execute_result"
    }
   ],
   "source": [
    "df.columns"
   ]
  },
  {
   "cell_type": "code",
   "execution_count": 71,
   "metadata": {},
   "outputs": [
    {
     "data": {
      "text/plain": [
       "array(['Data product plots', 'Pre-upgrade DRS', 'Post-upgrade DRS',\n",
       "       'Pre-upgrade standard SERVAL', 'Post-upgrade standard SERVAL',\n",
       "       'Pre-upgrade mlc SERVAL (use these)',\n",
       "       'Post-upgrade mlc SERVAL(use these)'], dtype=object)"
      ]
     },
     "execution_count": 71,
     "metadata": {},
     "output_type": "execute_result"
    }
   ],
   "source": [
    "all_data_products_names = df.columns[7:14].values\n",
    "all_data_products_names"
   ]
  },
  {
   "cell_type": "code",
   "execution_count": 72,
   "metadata": {},
   "outputs": [],
   "source": [
    "def get_rv(res, col='Pre-upgrade DRS', return_fp=True):\n",
    "    assert col in all_data_products_names\n",
    "    if col=='Data product plots':\n",
    "        return NotImplementedError\n",
    "    else:\n",
    "        folder = res['Target'].values[0]+'_RVs'\n",
    "        filename = res[col].values[0]\n",
    "        rv = ascii.read(join(BASE,folder,filename)).to_pandas()\n",
    "    #     rv.columns = 'BJD RV RV_err'.split()\n",
    "        if return_fp:\n",
    "            return rv,filename\n",
    "        else:\n",
    "            return rv"
   ]
  },
  {
   "cell_type": "code",
   "execution_count": null,
   "metadata": {},
   "outputs": [],
   "source": [
    "rv = get_rv(res)\n",
    "rv.head()"
   ]
  },
  {
   "cell_type": "code",
   "execution_count": null,
   "metadata": {},
   "outputs": [],
   "source": [
    "%matplotlib inline\n",
    "from astroplan.plots import plot_finder_image\n",
    "\n",
    "ax,hdu=plot_finder_image(target,reticle=True,survey='DSS2 Red')\n",
    "ax.scatter(target.ra.deg, target.dec.deg, transform=ax.get_transform('fk5'), s=300,\n",
    "           edgecolor='red', facecolor='none')"
   ]
  },
  {
   "cell_type": "code",
   "execution_count": 1,
   "metadata": {},
   "outputs": [],
   "source": [
    "import sys\n",
    "sys.path.append('..')\n",
    "import archive_digger as ad"
   ]
  },
  {
   "cell_type": "code",
   "execution_count": 2,
   "metadata": {},
   "outputs": [
    {
     "name": "stdout",
     "output_type": "stream",
     "text": [
      "Saved: ../data/TOIs.csv\n",
      "Saved: ./tics_from_alerts.txt\n"
     ]
    }
   ],
   "source": [
    "ad.save_tics(outdir='../data')"
   ]
  },
  {
   "cell_type": "code",
   "execution_count": null,
   "metadata": {},
   "outputs": [],
   "source": []
  }
 ],
 "metadata": {
  "kernelspec": {
   "display_name": "Python 3",
   "language": "python",
   "name": "python3"
  },
  "language_info": {
   "codemirror_mode": {
    "name": "ipython",
    "version": 3
   },
   "file_extension": ".py",
   "mimetype": "text/x-python",
   "name": "python",
   "nbconvert_exporter": "python",
   "pygments_lexer": "ipython3",
   "version": "3.6.1"
  }
 },
 "nbformat": 4,
 "nbformat_minor": 2
}

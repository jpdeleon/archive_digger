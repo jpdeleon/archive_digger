{
 "cells": [
  {
   "cell_type": "markdown",
   "metadata": {},
   "source": [
    "# Accessing ESO database\n",
    "\n",
    "Direct query\n",
    "* `http://archive.eso.org/ssap?REQUEST=queryData&POS=123.269560,-34.57804&SIZE=0.2` and [parse XML](https://stackoverflow.com/questions/45755513/parse-xml-to-table-in-python)"
   ]
  },
  {
   "cell_type": "markdown",
   "metadata": {},
   "source": [
    "## Example 1\n",
    "\n",
    "[eso_ssa.py](http://archive.eso.org/programmatic/eso_ssa.py)"
   ]
  },
  {
   "cell_type": "code",
   "execution_count": 1,
   "metadata": {},
   "outputs": [],
   "source": [
    "import sys\n",
    "import pyvo as vo\n",
    "from astropy.coordinates import SkyCoord\n",
    "from astropy import units as u\n",
    "import urllib\n",
    "\n",
    "# Define the end point and the SSA service to query\n",
    "ssap_endpoint = \"http://archive.eso.org/ssap\"\n",
    "ssap_service = vo.dal.SSAService(ssap_endpoint)"
   ]
  },
  {
   "cell_type": "code",
   "execution_count": 2,
   "metadata": {},
   "outputs": [],
   "source": [
    "ra = '05:37:09.9'\n",
    "dec= '-80:28:09'\n",
    "diameter = 0.5"
   ]
  },
  {
   "cell_type": "code",
   "execution_count": 3,
   "metadata": {},
   "outputs": [],
   "source": [
    "pos = SkyCoord(ra=ra, dec=dec, unit=(u.hourangle, u.deg))\n",
    "size = diameter*u.deg #u.Quantity(diameter, unit=\"deg\")"
   ]
  },
  {
   "cell_type": "code",
   "execution_count": 4,
   "metadata": {},
   "outputs": [
    {
     "name": "stderr",
     "output_type": "stream",
     "text": [
      "WARNING: AstropyDeprecationWarning: The truth value of a Quantity is ambiguous. In the future this will raise a ValueError. [astropy.units.quantity]\n",
      "WARNING: W06: None:13:6: W06: Invalid UCD 'instr.fov': Secondary word 'instr.fov' is not valid as a primary word [astropy.io.votable.tree]\n",
      "WARNING: W06: None:37:6: W06: Invalid UCD 'meta.ref.uri;meta.curation': Primary word 'meta.curation' is not valid as a secondary word [astropy.io.votable.tree]\n",
      "WARNING: W06: None:61:6: W06: Invalid UCD 'meta.ref.uri;meta.curation': Primary word 'meta.curation' is not valid as a secondary word [astropy.io.votable.tree]\n",
      "WARNING: W06: None:76:6: W06: Invalid UCD 'pos.outline;obs.field': Unknown word 'pos.outline' [astropy.io.votable.tree]\n"
     ]
    }
   ],
   "source": [
    "ssap_resultset = ssap_service.search(pos=pos.fk5, diameter=size)"
   ]
  },
  {
   "cell_type": "code",
   "execution_count": 5,
   "metadata": {},
   "outputs": [],
   "source": [
    "fields = [\"COLLECTION\", \"TARGETNAME\", \"s_ra\", \"s_dec\", \"APERTURE\",\n",
    "          \"em_min\", \"em_max\", \"SPECRP\", \"SNR\", \"t_min\", \"t_max\",\n",
    "          \"CREATORDID\", \"access_url\"]"
   ]
  },
  {
   "cell_type": "raw",
   "metadata": {},
   "source": [
    "fields=\"ARCFILE, HDR, Object, RA, DEC, Wavelength, coverage, R (λ/δλ), Flux Calibration, Product category, SNR (spectra), ABMAGLIM (cubes), Aperture, Spatial Resolution, Spectral bin, Dispersive element, Extended object, Normalised, Total flux, Instrument, Date Obs, Exptime, Collection, Product version, Release Description, Run/Program ID, ORIGFILE, REFERENCE\".split(',')"
   ]
  },
  {
   "cell_type": "code",
   "execution_count": 6,
   "metadata": {},
   "outputs": [],
   "source": [
    "# - Wavelengths are expressed in meters, for display they are converted to nanometers\n",
    "# Also, count how many spectra have a SNR > min_SNR\n",
    "\n",
    "harps_files=0\n",
    "min_SNR = 0\n",
    "separator=' '\n",
    "for row in ssap_resultset:\n",
    "    instrument = row[\"COLLECTION\"].decode()\n",
    "    if (instrument=='HARPS') and (row[\"SNR\"] > min_SNR):\n",
    "        harps_files += 1"
   ]
  },
  {
   "cell_type": "code",
   "execution_count": 7,
   "metadata": {},
   "outputs": [
    {
     "data": {
      "text/plain": [
       "268"
      ]
     },
     "execution_count": 7,
     "metadata": {},
     "output_type": "execute_result"
    }
   ],
   "source": [
    "harps_files"
   ]
  },
  {
   "cell_type": "code",
   "execution_count": 8,
   "metadata": {},
   "outputs": [
    {
     "name": "stderr",
     "output_type": "stream",
     "text": [
      "WARNING: AstropyDeprecationWarning: Using the table property is deprecated. Please use se to_table() instead. [pyvo.dal.query]\n"
     ]
    },
    {
     "data": {
      "text/html": [
       "<div>\n",
       "<style scoped>\n",
       "    .dataframe tbody tr th:only-of-type {\n",
       "        vertical-align: middle;\n",
       "    }\n",
       "\n",
       "    .dataframe tbody tr th {\n",
       "        vertical-align: top;\n",
       "    }\n",
       "\n",
       "    .dataframe thead th {\n",
       "        text-align: right;\n",
       "    }\n",
       "</style>\n",
       "<table border=\"1\" class=\"dataframe\">\n",
       "  <thead>\n",
       "    <tr style=\"text-align: right;\">\n",
       "      <th></th>\n",
       "      <th>access_estsize</th>\n",
       "      <th>access_url</th>\n",
       "      <th>APERTURE</th>\n",
       "      <th>COLLECTION</th>\n",
       "      <th>creation_type</th>\n",
       "      <th>CREATORDID</th>\n",
       "      <th>curation_reference</th>\n",
       "      <th>data_model</th>\n",
       "      <th>dataset_length</th>\n",
       "      <th>dataset_title</th>\n",
       "      <th>...</th>\n",
       "      <th>spatial_resolution</th>\n",
       "      <th>spec_ucd</th>\n",
       "      <th>SPECRP</th>\n",
       "      <th>t_elapsed</th>\n",
       "      <th>t_exptime</th>\n",
       "      <th>t_max</th>\n",
       "      <th>t_mid</th>\n",
       "      <th>t_min</th>\n",
       "      <th>TARGETNAME</th>\n",
       "      <th>WAVECALIB</th>\n",
       "    </tr>\n",
       "  </thead>\n",
       "  <tbody>\n",
       "    <tr>\n",
       "      <th>0</th>\n",
       "      <td>5261</td>\n",
       "      <td>b'http://archive.eso.org/datalink/links?ID=ivo...</td>\n",
       "      <td>0.999972</td>\n",
       "      <td>b'HARPS'</td>\n",
       "      <td>b'archival'</td>\n",
       "      <td>b'ivo://eso.org/origfile?HARPS.2006-11-12T07:0...</td>\n",
       "      <td>b''</td>\n",
       "      <td>b''</td>\n",
       "      <td>313133</td>\n",
       "      <td>b'HD39091_HARPS.2006-11-12T07:00:36.286_s1d_A'</td>\n",
       "      <td>...</td>\n",
       "      <td>NaN</td>\n",
       "      <td>b''</td>\n",
       "      <td>115000.0</td>\n",
       "      <td>0.004323</td>\n",
       "      <td>373.499</td>\n",
       "      <td>54051.296410</td>\n",
       "      <td>54051.294248</td>\n",
       "      <td>54051.292087</td>\n",
       "      <td>b'HD39091'</td>\n",
       "      <td>b'absolute'</td>\n",
       "    </tr>\n",
       "    <tr>\n",
       "      <th>1</th>\n",
       "      <td>5261</td>\n",
       "      <td>b'http://archive.eso.org/datalink/links?ID=ivo...</td>\n",
       "      <td>0.999972</td>\n",
       "      <td>b'HARPS'</td>\n",
       "      <td>b'archival'</td>\n",
       "      <td>b'ivo://eso.org/origfile?HARPS.2006-11-12T06:5...</td>\n",
       "      <td>b''</td>\n",
       "      <td>b''</td>\n",
       "      <td>313133</td>\n",
       "      <td>b'HD39091_HARPS.2006-11-12T06:53:47.333_s1d_A'</td>\n",
       "      <td>...</td>\n",
       "      <td>NaN</td>\n",
       "      <td>b''</td>\n",
       "      <td>115000.0</td>\n",
       "      <td>0.004323</td>\n",
       "      <td>373.502</td>\n",
       "      <td>54051.291676</td>\n",
       "      <td>54051.289515</td>\n",
       "      <td>54051.287353</td>\n",
       "      <td>b'HD39091'</td>\n",
       "      <td>b'absolute'</td>\n",
       "    </tr>\n",
       "    <tr>\n",
       "      <th>2</th>\n",
       "      <td>5261</td>\n",
       "      <td>b'http://archive.eso.org/datalink/links?ID=ivo...</td>\n",
       "      <td>0.999972</td>\n",
       "      <td>b'HARPS'</td>\n",
       "      <td>b'archival'</td>\n",
       "      <td>b'ivo://eso.org/origfile?HARPS.2009-12-04T03:5...</td>\n",
       "      <td>b''</td>\n",
       "      <td>b''</td>\n",
       "      <td>313133</td>\n",
       "      <td>b'HD39091_HARPS.2009-12-04T03:54:10.452_s1d_A'</td>\n",
       "      <td>...</td>\n",
       "      <td>NaN</td>\n",
       "      <td>b''</td>\n",
       "      <td>115000.0</td>\n",
       "      <td>0.002315</td>\n",
       "      <td>199.999</td>\n",
       "      <td>55169.164936</td>\n",
       "      <td>55169.163778</td>\n",
       "      <td>55169.162621</td>\n",
       "      <td>b'HD39091'</td>\n",
       "      <td>b'absolute'</td>\n",
       "    </tr>\n",
       "    <tr>\n",
       "      <th>3</th>\n",
       "      <td>5261</td>\n",
       "      <td>b'http://archive.eso.org/datalink/links?ID=ivo...</td>\n",
       "      <td>0.999972</td>\n",
       "      <td>b'HARPS'</td>\n",
       "      <td>b'archival'</td>\n",
       "      <td>b'ivo://eso.org/origfile?HARPS.2009-12-03T03:5...</td>\n",
       "      <td>b''</td>\n",
       "      <td>b''</td>\n",
       "      <td>313138</td>\n",
       "      <td>b'HD39091_HARPS.2009-12-03T03:58:39.690_s1d_A'</td>\n",
       "      <td>...</td>\n",
       "      <td>NaN</td>\n",
       "      <td>b''</td>\n",
       "      <td>115000.0</td>\n",
       "      <td>0.002315</td>\n",
       "      <td>199.998</td>\n",
       "      <td>55168.168052</td>\n",
       "      <td>55168.166895</td>\n",
       "      <td>55168.165737</td>\n",
       "      <td>b'HD39091'</td>\n",
       "      <td>b'absolute'</td>\n",
       "    </tr>\n",
       "    <tr>\n",
       "      <th>4</th>\n",
       "      <td>5261</td>\n",
       "      <td>b'http://archive.eso.org/datalink/links?ID=ivo...</td>\n",
       "      <td>0.999972</td>\n",
       "      <td>b'HARPS'</td>\n",
       "      <td>b'archival'</td>\n",
       "      <td>b'ivo://eso.org/origfile?HARPS.2009-11-05T07:2...</td>\n",
       "      <td>b''</td>\n",
       "      <td>b''</td>\n",
       "      <td>313126</td>\n",
       "      <td>b'HD39091_HARPS.2009-11-05T07:23:15.251_s1d_A'</td>\n",
       "      <td>...</td>\n",
       "      <td>NaN</td>\n",
       "      <td>b''</td>\n",
       "      <td>115000.0</td>\n",
       "      <td>0.005208</td>\n",
       "      <td>449.999</td>\n",
       "      <td>55140.313024</td>\n",
       "      <td>55140.310420</td>\n",
       "      <td>55140.307815</td>\n",
       "      <td>b'HD39091'</td>\n",
       "      <td>b'absolute'</td>\n",
       "    </tr>\n",
       "  </tbody>\n",
       "</table>\n",
       "<p>5 rows × 36 columns</p>\n",
       "</div>"
      ],
      "text/plain": [
       "   access_estsize                                         access_url  \\\n",
       "0            5261  b'http://archive.eso.org/datalink/links?ID=ivo...   \n",
       "1            5261  b'http://archive.eso.org/datalink/links?ID=ivo...   \n",
       "2            5261  b'http://archive.eso.org/datalink/links?ID=ivo...   \n",
       "3            5261  b'http://archive.eso.org/datalink/links?ID=ivo...   \n",
       "4            5261  b'http://archive.eso.org/datalink/links?ID=ivo...   \n",
       "\n",
       "   APERTURE COLLECTION creation_type  \\\n",
       "0  0.999972   b'HARPS'   b'archival'   \n",
       "1  0.999972   b'HARPS'   b'archival'   \n",
       "2  0.999972   b'HARPS'   b'archival'   \n",
       "3  0.999972   b'HARPS'   b'archival'   \n",
       "4  0.999972   b'HARPS'   b'archival'   \n",
       "\n",
       "                                          CREATORDID curation_reference  \\\n",
       "0  b'ivo://eso.org/origfile?HARPS.2006-11-12T07:0...                b''   \n",
       "1  b'ivo://eso.org/origfile?HARPS.2006-11-12T06:5...                b''   \n",
       "2  b'ivo://eso.org/origfile?HARPS.2009-12-04T03:5...                b''   \n",
       "3  b'ivo://eso.org/origfile?HARPS.2009-12-03T03:5...                b''   \n",
       "4  b'ivo://eso.org/origfile?HARPS.2009-11-05T07:2...                b''   \n",
       "\n",
       "  data_model  dataset_length                                   dataset_title  \\\n",
       "0        b''          313133  b'HD39091_HARPS.2006-11-12T07:00:36.286_s1d_A'   \n",
       "1        b''          313133  b'HD39091_HARPS.2006-11-12T06:53:47.333_s1d_A'   \n",
       "2        b''          313133  b'HD39091_HARPS.2009-12-04T03:54:10.452_s1d_A'   \n",
       "3        b''          313138  b'HD39091_HARPS.2009-12-03T03:58:39.690_s1d_A'   \n",
       "4        b''          313126  b'HD39091_HARPS.2009-11-05T07:23:15.251_s1d_A'   \n",
       "\n",
       "      ...      spatial_resolution  spec_ucd    SPECRP  t_elapsed  t_exptime  \\\n",
       "0     ...                     NaN       b''  115000.0   0.004323    373.499   \n",
       "1     ...                     NaN       b''  115000.0   0.004323    373.502   \n",
       "2     ...                     NaN       b''  115000.0   0.002315    199.999   \n",
       "3     ...                     NaN       b''  115000.0   0.002315    199.998   \n",
       "4     ...                     NaN       b''  115000.0   0.005208    449.999   \n",
       "\n",
       "          t_max         t_mid         t_min  TARGETNAME    WAVECALIB  \n",
       "0  54051.296410  54051.294248  54051.292087  b'HD39091'  b'absolute'  \n",
       "1  54051.291676  54051.289515  54051.287353  b'HD39091'  b'absolute'  \n",
       "2  55169.164936  55169.163778  55169.162621  b'HD39091'  b'absolute'  \n",
       "3  55168.168052  55168.166895  55168.165737  b'HD39091'  b'absolute'  \n",
       "4  55140.313024  55140.310420  55140.307815  b'HD39091'  b'absolute'  \n",
       "\n",
       "[5 rows x 36 columns]"
      ]
     },
     "execution_count": 8,
     "metadata": {},
     "output_type": "execute_result"
    }
   ],
   "source": [
    "df=ssap_resultset.table.to_pandas()\n",
    "df.head()"
   ]
  },
  {
   "cell_type": "code",
   "execution_count": 9,
   "metadata": {},
   "outputs": [
    {
     "data": {
      "text/plain": [
       "Index(['access_estsize', 'access_url', 'APERTURE', 'COLLECTION',\n",
       "       'creation_type', 'CREATORDID', 'curation_reference', 'data_model',\n",
       "       'dataset_length', 'dataset_title', 'dp_id', 'em_bw', 'em_max', 'em_min',\n",
       "       'em_val', 'equinox', 'flux_ucd', 'FORMAT', 'PUBDID', 'publisher',\n",
       "       'rights', 's_dec', 's_ra', 's_region', 'SNR', 'space_frame',\n",
       "       'spatial_resolution', 'spec_ucd', 'SPECRP', 't_elapsed', 't_exptime',\n",
       "       't_max', 't_mid', 't_min', 'TARGETNAME', 'WAVECALIB'],\n",
       "      dtype='object')"
      ]
     },
     "execution_count": 9,
     "metadata": {},
     "output_type": "execute_result"
    }
   ],
   "source": [
    "df.columns"
   ]
  },
  {
   "cell_type": "code",
   "execution_count": 9,
   "metadata": {},
   "outputs": [
    {
     "data": {
      "text/plain": [
       "array(['HD39091', 'ASASSN15um'], dtype=object)"
      ]
     },
     "execution_count": 9,
     "metadata": {},
     "output_type": "execute_result"
    }
   ],
   "source": [
    "df['TARGETNAME'].apply(lambda x: str(x.decode()).replace('-','')).unique()"
   ]
  },
  {
   "cell_type": "code",
   "execution_count": 10,
   "metadata": {},
   "outputs": [],
   "source": [
    "df[\"COLLECTION\"] = df[\"COLLECTION\"].apply(lambda x: x.decode())"
   ]
  },
  {
   "cell_type": "code",
   "execution_count": 11,
   "metadata": {},
   "outputs": [],
   "source": [
    "df[\"dp_id\"] = df[\"dp_id\"].apply(lambda x: x.decode())"
   ]
  },
  {
   "cell_type": "code",
   "execution_count": 12,
   "metadata": {},
   "outputs": [],
   "source": [
    "df[\"CREATORDID\"] = df[\"CREATORDID\"].apply(lambda x: x.decode())"
   ]
  },
  {
   "cell_type": "code",
   "execution_count": 13,
   "metadata": {},
   "outputs": [
    {
     "data": {
      "text/plain": [
       "b'datalink/links?ID=ivo://eso.org/ID?ADP.2014-09-16T11:06:14.713&eso_download=file'"
      ]
     },
     "execution_count": 13,
     "metadata": {},
     "output_type": "execute_result"
    }
   ],
   "source": [
    "df[\"access_url\"][0][23:]"
   ]
  },
  {
   "cell_type": "code",
   "execution_count": 14,
   "metadata": {},
   "outputs": [],
   "source": [
    "df[\"access_url\"] = df[\"access_url\"].apply(lambda x: x.decode()) #, row[\"CREATORDID\"].decode()[23:]]"
   ]
  },
  {
   "cell_type": "code",
   "execution_count": 15,
   "metadata": {},
   "outputs": [
    {
     "data": {
      "text/plain": [
       "'http://archive.eso.org/datalink/links?ID=ivo://eso.org/ID?ADP.2014-09-16T11:06:14.713&eso_download=file'"
      ]
     },
     "execution_count": 15,
     "metadata": {},
     "output_type": "execute_result"
    }
   ],
   "source": [
    "#url\n",
    "df[\"access_url\"][0]"
   ]
  },
  {
   "cell_type": "code",
   "execution_count": 16,
   "metadata": {},
   "outputs": [
    {
     "data": {
      "text/plain": [
       "'HARPS.2006-11-12T070036.286_s1d_A_DRS_HARPS_3.5_ESOSDP.fits'"
      ]
     },
     "execution_count": 16,
     "metadata": {},
     "output_type": "execute_result"
    }
   ],
   "source": [
    "#filename\n",
    "df['CREATORDID'][0][23:].replace(':','')"
   ]
  },
  {
   "cell_type": "code",
   "execution_count": 17,
   "metadata": {},
   "outputs": [
    {
     "name": "stderr",
     "output_type": "stream",
     "text": [
      "100%|██████████| 3/3 [00:00<00:00, 636.30it/s]"
     ]
    },
    {
     "name": "stdout",
     "output_type": "stream",
     "text": [
      "Fetching file with SNR=152.100000: ADP.2014-09-16T11:06:14.713.fits renamed to HARPS.2006-11-12T07:00:36.286_s1d_A_DRS_HARPS_3.5_ESOSDP.fits\n",
      "Fetching file with SNR=140.500000: ADP.2014-09-16T11:07:17.520.fits renamed to HARPS.2006-11-12T06:53:47.333_s1d_A_DRS_HARPS_3.5_ESOSDP.fits\n",
      "Fetching file with SNR=175.000000: ADP.2014-09-23T11:01:26.443.fits renamed to HARPS.2009-12-04T03:54:10.452_s1d_A_DRS_HARPS_3.5_ESOSDP.fits\n"
     ]
    },
    {
     "name": "stderr",
     "output_type": "stream",
     "text": [
      "\n"
     ]
    }
   ],
   "source": [
    "from tqdm import tqdm\n",
    "from os.path import join\n",
    "\n",
    "id={}\n",
    "for i in tqdm(range(len(df))[:3]):\n",
    "    instrument = df.loc[i,\"COLLECTION\"]\n",
    "    if (instrument=='HARPS') and (df.loc[i,\"SNR\"] > min_SNR):\n",
    "        dp_id = df.loc[i,\"dp_id\"]\n",
    "        origfile = df.loc[i,\"CREATORDID\"][23:]\n",
    "        id[origfile] = dp_id\n",
    "        # The downloaded file is saved with the name provided by the creator of the file: origfile.\n",
    "        # Though, care should be taken, because reduced products\n",
    "        # generated by external users might have colliding CREATORDID!\n",
    "        # This \"demo\" script does not take into consideration this risk.\n",
    "        print(\"Fetching file with SNR=%f: %s.fits renamed to %s\" %(df.loc[i,\"SNR\"], dp_id, origfile))\n",
    "        url = df.loc[i,\"access_url\"]\n",
    "        filename = join('../data',df.loc[i,\"CREATORDID\"][23:].replace(':',''))\n",
    "        #urllib.request.urlretrieve(url, filename)"
   ]
  },
  {
   "cell_type": "markdown",
   "metadata": {},
   "source": [
    "### reading downloaded fits files\n",
    "\n",
    "[see example](http://archive.eso.org/cms/eso-data/help/1dspectra.html#Python)"
   ]
  },
  {
   "cell_type": "code",
   "execution_count": 21,
   "metadata": {},
   "outputs": [],
   "source": [
    "%matplotlib inline\n",
    "import sys\n",
    "import matplotlib.pyplot as pl\n",
    "from astropy.io import fits as pf\n",
    "import numpy as np\n",
    "\n",
    "hdulist = pf.open( \"../data/HARPS.2006-11-12T065347.333_s1d_A_DRS_HARPS_3.5_ESOSDP.fits\" )"
   ]
  },
  {
   "cell_type": "code",
   "execution_count": 22,
   "metadata": {},
   "outputs": [
    {
     "name": "stdout",
     "output_type": "stream",
     "text": [
      "Filename: ../data/HARPS.2006-11-12T065347.333_s1d_A_DRS_HARPS_3.5_ESOSDP.fits\n",
      "No.    Name      Ver    Type      Cards   Dimensions   Format\n",
      "  0  PRIMARY       1 PrimaryHDU    3051   ()      \n",
      "  1  SPECTRUM      1 BinTableHDU     46   1R x 3C   [313133D, 313133E, 313133E]   \n"
     ]
    }
   ],
   "source": [
    "hdulist.info()"
   ]
  },
  {
   "cell_type": "raw",
   "metadata": {},
   "source": [
    "hdulist[0].header"
   ]
  },
  {
   "cell_type": "code",
   "execution_count": 23,
   "metadata": {},
   "outputs": [
    {
     "data": {
      "text/plain": [
       "ColDefs(\n",
       "    name = 'WAVE'; format = '313133D'; unit = 'Angstrom'\n",
       "    name = 'FLUX'; format = '313133E'; unit = 'adu'\n",
       "    name = 'ERR'; format = '313133E'; unit = 'adu'\n",
       ")"
      ]
     },
     "execution_count": 23,
     "metadata": {},
     "output_type": "execute_result"
    }
   ],
   "source": [
    "# print column information\n",
    "hdulist[1].columns"
   ]
  },
  {
   "cell_type": "code",
   "execution_count": 24,
   "metadata": {},
   "outputs": [
    {
     "data": {
      "text/plain": [
       "Text(0.5, 0, 'Wavelength [$\\\\AA$]')"
      ]
     },
     "execution_count": 24,
     "metadata": {},
     "output_type": "execute_result"
    },
    {
     "data": {
      "image/png": "[encoded data removed]",
      "text/plain": [
       "<Figure size 432x288 with 1 Axes>"
      ]
     },
     "metadata": {},
     "output_type": "display_data"
    }
   ],
   "source": [
    "# get to the data part (in extension 1)\n",
    "scidata = hdulist[1].data\n",
    "\n",
    "wave = scidata[0][0]\n",
    "flux = scidata[0][1]\n",
    "err  = scidata[0][2]\n",
    "\n",
    "pl.errorbar(wave, flux, yerr=err)\n",
    "pl.ylabel('FLUX [ADU]')\n",
    "pl.xlabel('Wavelength [$\\AA$]')"
   ]
  },
  {
   "cell_type": "markdown",
   "metadata": {},
   "source": [
    "## querying all tois"
   ]
  },
  {
   "cell_type": "code",
   "execution_count": 26,
   "metadata": {},
   "outputs": [
    {
     "name": "stdout",
     "output_type": "stream",
     "text": [
      "Saved: ../data/TOIs.csv\n"
     ]
    }
   ],
   "source": [
    "sys.path.append('../archive_digger')\n",
    "import archive_digger as ad\n",
    "\n",
    "tois = ad.get_tois() "
   ]
  },
  {
   "cell_type": "code",
   "execution_count": 58,
   "metadata": {},
   "outputs": [
    {
     "name": "stderr",
     "output_type": "stream",
     "text": [
      "0it [00:00, ?it/s]WARNING: AstropyDeprecationWarning: The truth value of a Quantity is ambiguous. In the future this will raise a ValueError. [astropy.units.quantity]\n",
      "WARNING: W06: None:13:6: W06: Invalid UCD 'instr.fov': Secondary word 'instr.fov' is not valid as a primary word [astropy.io.votable.tree]\n",
      "WARNING: W06: None:37:6: W06: Invalid UCD 'meta.ref.uri;meta.curation': Primary word 'meta.curation' is not valid as a secondary word [astropy.io.votable.tree]\n",
      "WARNING: W06: None:61:6: W06: Invalid UCD 'meta.ref.uri;meta.curation': Primary word 'meta.curation' is not valid as a secondary word [astropy.io.votable.tree]\n",
      "WARNING: W06: None:76:6: W06: Invalid UCD 'pos.outline;obs.field': Unknown word 'pos.outline' [astropy.io.votable.tree]\n",
      "753it [08:44,  1.09it/s]\n"
     ]
    }
   ],
   "source": [
    "ras = tois['RA'].values#[:15]\n",
    "decs= tois['Dec'].values#[:15]\n",
    "tics= tois['TIC ID'].values#[:15]\n",
    "\n",
    "min_snr = 1\n",
    "harps = {}\n",
    "uves  = {}\n",
    "feros = {}\n",
    "for ra,dec,tic in tqdm(zip(ras,decs,tics)):\n",
    "    pos = SkyCoord(ra=ra, dec=dec, unit=(u.hourangle, u.deg))\n",
    "    size = diameter*u.deg\n",
    "    ssap_resultset = ssap_service.search(pos=pos.fk5, diameter=size)\n",
    "    df=ssap_resultset.to_table().to_pandas()\n",
    "    collection=df['COLLECTION'].apply(lambda x: x.decode())\n",
    "    snr = df['SNR']\n",
    "    df1=df[(collection=='HARPS') & (snr>min_snr)]\n",
    "    df2=df[(collection=='UVES')  & (snr>min_snr)]\n",
    "    df3=df[(collection=='FEROS') & (snr>min_snr)]\n",
    "    harps[tic] = len(df1)\n",
    "    uves[tic]  = len(df2)\n",
    "    feros[tic] = len(df3)"
   ]
  },
  {
   "cell_type": "code",
   "execution_count": 72,
   "metadata": {},
   "outputs": [],
   "source": [
    "import pandas as pd\n",
    "\n",
    "d=pd.DataFrame([harps,uves,feros]).T\n",
    "d.columns=['harps','uves','feros']"
   ]
  },
  {
   "cell_type": "code",
   "execution_count": 77,
   "metadata": {},
   "outputs": [],
   "source": [
    "final=pd.merge(d,tois,right_on='TIC ID', left_index=True)\n",
    "# final=final[['harps','feros','TIC ID','TOI']].sort_values('TOI')\n",
    "final.sort_values('TOI').to_csv('toi_with_eso_data.csv',index=False)"
   ]
  },
  {
   "cell_type": "markdown",
   "metadata": {},
   "source": [
    "## Example 2\n",
    "\n",
    "[raw_eso.py](http://archive.eso.org/programmatic/eso_raw.py)"
   ]
  },
  {
   "cell_type": "code",
   "execution_count": 18,
   "metadata": {},
   "outputs": [
    {
     "name": "stdout",
     "output_type": "stream",
     "text": [
      "\n",
      "Looking for public SCIENCE HARPS frames around target Pi Men in a cone of radius 0.500000 deg.\n",
      "Querying the ESO TAP service at http://archive.eso.org/tap_obs\n",
      "The provided target is being resolved by SESAME...\n",
      "SESAME coordinates for Pi Men: 84.2912 -80.4692\n",
      "SELECT TOP 3 object, ra, dec, tpl_start, prog_id, filter_path, dp_id\n",
      "from dbo.raw\n",
      "where ra  between 84.208461 and 84.374039\n",
      "  and dec between -80.969167 and -79.969167\n",
      "  and instrument='HARPS'\n",
      "  and release_date < getdate()\n",
      "  and dp_cat='SCIENCE' \n"
     ]
    },
    {
     "ename": "DALQueryError",
     "evalue": "Unexpected error while executing a SQL query: The SELECT permission was denied on the object 'data_products', database 'obs_metadata', schema 'dbo'.",
     "output_type": "error",
     "traceback": [
      "\u001b[0;31m---------------------------------------------------------------------------\u001b[0m",
      "\u001b[0;31mDALQueryError\u001b[0m                             Traceback (most recent call last)",
      "\u001b[0;32m<ipython-input-18-1c173a837b2d>\u001b[0m in \u001b[0;36m<module>\u001b[0;34m()\u001b[0m\n\u001b[1;32m     49\u001b[0m \u001b[0mprint\u001b[0m\u001b[0;34m(\u001b[0m\u001b[0mquery\u001b[0m\u001b[0;34m)\u001b[0m\u001b[0;34m\u001b[0m\u001b[0m\n\u001b[1;32m     50\u001b[0m \u001b[0;34m\u001b[0m\u001b[0m\n\u001b[0;32m---> 51\u001b[0;31m \u001b[0mres\u001b[0m \u001b[0;34m=\u001b[0m \u001b[0mtapobs\u001b[0m\u001b[0;34m.\u001b[0m\u001b[0msearch\u001b[0m\u001b[0;34m(\u001b[0m\u001b[0mquery\u001b[0m\u001b[0;34m=\u001b[0m\u001b[0mquery\u001b[0m\u001b[0;34m)\u001b[0m\u001b[0;34m\u001b[0m\u001b[0m\n\u001b[0m\u001b[1;32m     52\u001b[0m \u001b[0mprint\u001b[0m\u001b[0;34m(\u001b[0m\u001b[0mres\u001b[0m\u001b[0;34m.\u001b[0m\u001b[0mto_table\u001b[0m\u001b[0;34m(\u001b[0m\u001b[0;34m)\u001b[0m\u001b[0;34m)\u001b[0m\u001b[0;34m\u001b[0m\u001b[0m\n",
      "\u001b[0;32m~/miniconda3/envs/py3/lib/python3.6/site-packages/pyvo/dal/tap.py\u001b[0m in \u001b[0;36mrun_sync\u001b[0;34m(self, query, language, maxrec, uploads, **keywords)\u001b[0m\n\u001b[1;32m    192\u001b[0m         return self.create_query(\n\u001b[1;32m    193\u001b[0m             \u001b[0mquery\u001b[0m\u001b[0;34m,\u001b[0m \u001b[0mlanguage\u001b[0m\u001b[0;34m=\u001b[0m\u001b[0mlanguage\u001b[0m\u001b[0;34m,\u001b[0m \u001b[0mmaxrec\u001b[0m\u001b[0;34m=\u001b[0m\u001b[0mmaxrec\u001b[0m\u001b[0;34m,\u001b[0m \u001b[0muploads\u001b[0m\u001b[0;34m=\u001b[0m\u001b[0muploads\u001b[0m\u001b[0;34m,\u001b[0m\u001b[0;34m\u001b[0m\u001b[0m\n\u001b[0;32m--> 194\u001b[0;31m             **keywords).execute()\n\u001b[0m\u001b[1;32m    195\u001b[0m \u001b[0;34m\u001b[0m\u001b[0m\n\u001b[1;32m    196\u001b[0m     \u001b[0;31m# alias for service discovery\u001b[0m\u001b[0;34m\u001b[0m\u001b[0;34m\u001b[0m\u001b[0m\n",
      "\u001b[0;32m~/miniconda3/envs/py3/lib/python3.6/site-packages/pyvo/dal/tap.py\u001b[0m in \u001b[0;36mexecute\u001b[0;34m(self)\u001b[0m\n\u001b[1;32m    808\u001b[0m            \u001b[0;32mfor\u001b[0m \u001b[0merrors\u001b[0m \u001b[0mparsing\u001b[0m \u001b[0mthe\u001b[0m \u001b[0mVOTable\u001b[0m \u001b[0mresponse\u001b[0m\u001b[0;34m\u001b[0m\u001b[0m\n\u001b[1;32m    809\u001b[0m         \"\"\"\n\u001b[0;32m--> 810\u001b[0;31m         \u001b[0;32mreturn\u001b[0m \u001b[0mTAPResults\u001b[0m\u001b[0;34m(\u001b[0m\u001b[0mself\u001b[0m\u001b[0;34m.\u001b[0m\u001b[0mexecute_votable\u001b[0m\u001b[0;34m(\u001b[0m\u001b[0;34m)\u001b[0m\u001b[0;34m,\u001b[0m \u001b[0murl\u001b[0m\u001b[0;34m=\u001b[0m\u001b[0mself\u001b[0m\u001b[0;34m.\u001b[0m\u001b[0mqueryurl\u001b[0m\u001b[0;34m)\u001b[0m\u001b[0;34m\u001b[0m\u001b[0m\n\u001b[0m\u001b[1;32m    811\u001b[0m \u001b[0;34m\u001b[0m\u001b[0m\n\u001b[1;32m    812\u001b[0m     \u001b[0;32mdef\u001b[0m \u001b[0msubmit\u001b[0m\u001b[0;34m(\u001b[0m\u001b[0mself\u001b[0m\u001b[0;34m)\u001b[0m\u001b[0;34m:\u001b[0m\u001b[0;34m\u001b[0m\u001b[0m\n",
      "\u001b[0;32m~/miniconda3/envs/py3/lib/python3.6/site-packages/pyvo/dal/adhoc.py\u001b[0m in \u001b[0;36m__init__\u001b[0;34m(self, votable, url)\u001b[0m\n\u001b[1;32m     94\u001b[0m     \"\"\"\n\u001b[1;32m     95\u001b[0m     \u001b[0;32mdef\u001b[0m \u001b[0m__init__\u001b[0m\u001b[0;34m(\u001b[0m\u001b[0mself\u001b[0m\u001b[0;34m,\u001b[0m \u001b[0mvotable\u001b[0m\u001b[0;34m,\u001b[0m \u001b[0murl\u001b[0m\u001b[0;34m=\u001b[0m\u001b[0;32mNone\u001b[0m\u001b[0;34m)\u001b[0m\u001b[0;34m:\u001b[0m\u001b[0;34m\u001b[0m\u001b[0m\n\u001b[0;32m---> 96\u001b[0;31m         \u001b[0msuper\u001b[0m\u001b[0;34m(\u001b[0m\u001b[0mAdhocServiceResultsMixin\u001b[0m\u001b[0;34m,\u001b[0m \u001b[0mself\u001b[0m\u001b[0;34m)\u001b[0m\u001b[0;34m.\u001b[0m\u001b[0m__init__\u001b[0m\u001b[0;34m(\u001b[0m\u001b[0mvotable\u001b[0m\u001b[0;34m,\u001b[0m \u001b[0murl\u001b[0m\u001b[0;34m=\u001b[0m\u001b[0murl\u001b[0m\u001b[0;34m)\u001b[0m\u001b[0;34m\u001b[0m\u001b[0m\n\u001b[0m\u001b[1;32m     97\u001b[0m \u001b[0;34m\u001b[0m\u001b[0m\n\u001b[1;32m     98\u001b[0m         self._adhocservices = list(\n",
      "\u001b[0;32m~/miniconda3/envs/py3/lib/python3.6/site-packages/pyvo/dal/query.py\u001b[0m in \u001b[0;36m__init__\u001b[0;34m(self, votable, url)\u001b[0m\n\u001b[1;32m    316\u001b[0m         \u001b[0mself\u001b[0m\u001b[0;34m.\u001b[0m\u001b[0m_status\u001b[0m \u001b[0;34m=\u001b[0m \u001b[0mself\u001b[0m\u001b[0;34m.\u001b[0m\u001b[0m_findstatus\u001b[0m\u001b[0;34m(\u001b[0m\u001b[0mvotable\u001b[0m\u001b[0;34m)\u001b[0m\u001b[0;34m\u001b[0m\u001b[0m\n\u001b[1;32m    317\u001b[0m         \u001b[0;32mif\u001b[0m \u001b[0mself\u001b[0m\u001b[0;34m.\u001b[0m\u001b[0m_status\u001b[0m\u001b[0;34m[\u001b[0m\u001b[0;36m0\u001b[0m\u001b[0;34m]\u001b[0m\u001b[0;34m.\u001b[0m\u001b[0mlower\u001b[0m\u001b[0;34m(\u001b[0m\u001b[0;34m)\u001b[0m \u001b[0;32mnot\u001b[0m \u001b[0;32min\u001b[0m \u001b[0;34m(\u001b[0m\u001b[0;34m\"ok\"\u001b[0m\u001b[0;34m,\u001b[0m \u001b[0;34m\"overflow\"\u001b[0m\u001b[0;34m)\u001b[0m\u001b[0;34m:\u001b[0m\u001b[0;34m\u001b[0m\u001b[0m\n\u001b[0;32m--> 318\u001b[0;31m             \u001b[0;32mraise\u001b[0m \u001b[0mDALQueryError\u001b[0m\u001b[0;34m(\u001b[0m\u001b[0mself\u001b[0m\u001b[0;34m.\u001b[0m\u001b[0m_status\u001b[0m\u001b[0;34m[\u001b[0m\u001b[0;36m1\u001b[0m\u001b[0;34m]\u001b[0m\u001b[0;34m,\u001b[0m \u001b[0mself\u001b[0m\u001b[0;34m.\u001b[0m\u001b[0m_status\u001b[0m\u001b[0;34m[\u001b[0m\u001b[0;36m0\u001b[0m\u001b[0;34m]\u001b[0m\u001b[0;34m,\u001b[0m \u001b[0murl\u001b[0m\u001b[0;34m)\u001b[0m\u001b[0;34m\u001b[0m\u001b[0m\n\u001b[0m\u001b[1;32m    319\u001b[0m \u001b[0;34m\u001b[0m\u001b[0m\n\u001b[1;32m    320\u001b[0m         \u001b[0mself\u001b[0m\u001b[0;34m.\u001b[0m\u001b[0m_resultstable\u001b[0m \u001b[0;34m=\u001b[0m \u001b[0mself\u001b[0m\u001b[0;34m.\u001b[0m\u001b[0m_findresultstable\u001b[0m\u001b[0;34m(\u001b[0m\u001b[0mvotable\u001b[0m\u001b[0;34m)\u001b[0m\u001b[0;34m\u001b[0m\u001b[0m\n",
      "\u001b[0;31mDALQueryError\u001b[0m: Unexpected error while executing a SQL query: The SELECT permission was denied on the object 'data_products', database 'obs_metadata', schema 'dbo'."
     ]
    }
   ],
   "source": [
    "import sys\n",
    "import math\n",
    "from pyvo.dal import tap\n",
    "\n",
    "from astropy.coordinates import SkyCoord\n",
    "from astropy import units as u\n",
    " \n",
    "ESO_TAP_OBS = \"http://archive.eso.org/tap_obs\"\n",
    "tapobs = tap.TAPService(ESO_TAP_OBS)\n",
    " \n",
    "target = \"Pi Men\"\n",
    "radius = 0.5 # degrees\n",
    "\n",
    "print()\n",
    "print(\"Looking for public SCIENCE HARPS frames around target %s in a cone of radius %f deg.\"   %(target, radius))\n",
    "print(\"Querying the ESO TAP service at %s\" %(ESO_TAP_OBS))\n",
    "\n",
    "# --------------------------------------------------\n",
    "# The actual position of the selected target\n",
    "# is queried by the from_name() function,\n",
    "# which queries the CDS SESAME service\n",
    "# (http://cdsweb.u-strasbg.fr/cgi-bin/Sesame).\n",
    "# --------------------------------------------------\n",
    "\n",
    "print(\"The provided target is being resolved by SESAME...\")\n",
    "pos = SkyCoord(ra=ra, dec=dec, unit=(u.hourangle, u.deg))\n",
    "\n",
    "print(\"SESAME coordinates for %s: %s\" % (target, pos.to_string()))\n",
    "\n",
    "cosd = math.cos( pos.dec.to_value() * math.pi/180. )\n",
    "if ( math.fabs( pos.dec.to_value() - 90 ) < radius ):\n",
    "    cosd = 1;\n",
    "\n",
    "ra_min = pos.ra.to_value() - radius * cosd \n",
    "ra_max = pos.ra.to_value() + radius * cosd \n",
    "dec_min = pos.dec.to_value() - radius\n",
    "dec_max = pos.dec.to_value() + radius\n",
    "\n",
    "top = \"TOP %d\" % (3)\n",
    "\n",
    "query=\"\"\"SELECT %s object, ra, dec, tpl_start, prog_id, filter_path, dp_id\n",
    "from dbo.raw\n",
    "where ra  between %f and %f\n",
    "  and dec between %f and %f\n",
    "  and instrument='HARPS'\n",
    "  and release_date < getdate()\n",
    "  and dp_cat='SCIENCE' \"\"\" % ( top, ra_min, ra_max, dec_min, dec_max );\n",
    "\n",
    "print(query)\n",
    " \n",
    "res = tapobs.search(query=query)\n",
    "print(res.to_table())"
   ]
  },
  {
   "cell_type": "code",
   "execution_count": null,
   "metadata": {},
   "outputs": [],
   "source": []
  },
  {
   "cell_type": "code",
   "execution_count": null,
   "metadata": {},
   "outputs": [],
   "source": []
  }
 ],
 "metadata": {
  "kernelspec": {
   "display_name": "Python 3",
   "language": "python",
   "name": "python3"
  },
  "language_info": {
   "codemirror_mode": {
    "name": "ipython",
    "version": 3
   },
   "file_extension": ".py",
   "mimetype": "text/x-python",
   "name": "python",
   "nbconvert_exporter": "python",
   "pygments_lexer": "ipython3",
   "version": "3.6.1"
  }
 },
 "nbformat": 4,
 "nbformat_minor": 2
}

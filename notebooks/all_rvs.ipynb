{
 "cells": [
  {
   "cell_type": "code",
   "execution_count": 4,
   "id": "e62bb468-2d5d-42a3-9b61-f9f73ae1b6fb",
   "metadata": {},
   "outputs": [],
   "source": [
    "import pandas as pd\n",
    "from astropy import units as u\n",
    "from astropy.coordinates import SkyCoord\n",
    "import numpy as np"
   ]
  },
  {
   "cell_type": "code",
   "execution_count": 5,
   "id": "05b783f9-c40f-4f0d-b0da-46b6fc9d53da",
   "metadata": {},
   "outputs": [],
   "source": [
    "df = pd.read_csv('../data/harps_rv_v2.csv')\n",
    "df = df.replace(-9999999.0, np.nan)"
   ]
  },
  {
   "cell_type": "code",
   "execution_count": 6,
   "id": "1e9c07cc-02d1-4216-bccb-3ba513d4159a",
   "metadata": {},
   "outputs": [
    {
     "data": {
      "text/html": [
       "<div>\n",
       "<style scoped>\n",
       "    .dataframe tbody tr th:only-of-type {\n",
       "        vertical-align: middle;\n",
       "    }\n",
       "\n",
       "    .dataframe tbody tr th {\n",
       "        vertical-align: top;\n",
       "    }\n",
       "\n",
       "    .dataframe thead th {\n",
       "        text-align: right;\n",
       "    }\n",
       "</style>\n",
       "<table border=\"1\" class=\"dataframe\">\n",
       "  <thead>\n",
       "    <tr style=\"text-align: right;\">\n",
       "      <th></th>\n",
       "      <th>target</th>\n",
       "      <th>ra</th>\n",
       "      <th>dec</th>\n",
       "      <th>BJD</th>\n",
       "      <th>RV_mlc_nzp</th>\n",
       "      <th>e_RV_mlc_nzp</th>\n",
       "      <th>RV_drs_nzp</th>\n",
       "      <th>e_RV_drs_nzp</th>\n",
       "      <th>RV_mlc</th>\n",
       "      <th>e_RV_mlc</th>\n",
       "      <th>...</th>\n",
       "      <th>PROGPI</th>\n",
       "      <th>AIRMASS</th>\n",
       "      <th>OBHAB</th>\n",
       "      <th>THAR_FP</th>\n",
       "      <th>DPR_TYPE</th>\n",
       "      <th>RHKp</th>\n",
       "      <th>dRHKp</th>\n",
       "      <th>sourceflag</th>\n",
       "      <th>vsinflag</th>\n",
       "      <th>metflag</th>\n",
       "    </tr>\n",
       "  </thead>\n",
       "  <tbody>\n",
       "  </tbody>\n",
       "</table>\n",
       "<p>0 rows × 58 columns</p>\n",
       "</div>"
      ],
      "text/plain": [
       "Empty DataFrame\n",
       "Columns: [target, ra, dec, BJD, RV_mlc_nzp, e_RV_mlc_nzp, RV_drs_nzp, e_RV_drs_nzp, RV_mlc, e_RV_mlc, RV_drs, e_RV_drs, RV_mlc_j, e_RV_mlc_j, CRX, e_CRX, dLW, e_dLW, Halpha, e_Halpha, NaD1, e_NaD1, NaD2, e_NaD2, f_RV, FWHM_DRS, CONTRAST_DRS, BIS, RVGUESS, SNR_DRS, BJD_DRS, BERV, BERV_DRS, DRIFT, e_DRIFT, SA, NZP_mlc, dNZP_mlc, NZP_drs, dNZP_drs, TMMEAN, EXPTIME, MLCRX, E_MLCRX, TIMEID, DRIFT_LAMP, MASK, PROGID, PROGPI, AIRMASS, OBHAB, THAR_FP, DPR_TYPE, RHKp, dRHKp, sourceflag, vsinflag, metflag]\n",
       "Index: []\n",
       "\n",
       "[0 rows x 58 columns]"
      ]
     },
     "execution_count": 6,
     "metadata": {},
     "output_type": "execute_result"
    }
   ],
   "source": [
    "#df[df['dec']<-90]"
   ]
  },
  {
   "cell_type": "code",
   "execution_count": 7,
   "id": "3ea3fb53-4f17-416f-8a0d-d73a04932168",
   "metadata": {},
   "outputs": [],
   "source": [
    "ra, dec = 338.805332, 54.773557\n",
    "coords = SkyCoord(ra=ra, dec=dec, unit=u.deg)"
   ]
  },
  {
   "cell_type": "code",
   "execution_count": 8,
   "id": "b4238998-db39-45c5-bcd3-2981375e6497",
   "metadata": {},
   "outputs": [],
   "source": [
    "cols = ['ra','dec']\n",
    "coords_all = SkyCoord(df['ra'].astype(float), df['dec'].astype(float), unit='deg')"
   ]
  },
  {
   "cell_type": "code",
   "execution_count": 10,
   "id": "6a0b9e50-4ecd-449f-81b8-2128c9f2924f",
   "metadata": {},
   "outputs": [
    {
     "data": {
      "text/plain": [
       "target                      HATS398-020\n",
       "ra                                  NaN\n",
       "dec                                 NaN\n",
       "BJD                       2458322.83054\n",
       "RV_mlc_nzp                    -6.362813\n",
       "e_RV_mlc_nzp                   1.377816\n",
       "RV_drs_nzp                 24368.542126\n",
       "e_RV_drs_nzp                   6.557287\n",
       "RV_mlc                        -7.368009\n",
       "e_RV_mlc                       1.160369\n",
       "RV_drs                     24367.183073\n",
       "e_RV_drs                       6.417657\n",
       "RV_mlc_j                      -7.368009\n",
       "e_RV_mlc_j                     1.160369\n",
       "CRX                            0.892724\n",
       "e_CRX                          8.756832\n",
       "dLW                            0.357872\n",
       "e_dLW                          0.386891\n",
       "Halpha                         0.456309\n",
       "e_Halpha                       0.002608\n",
       "NaD1                           0.292365\n",
       "e_NaD1                         0.003394\n",
       "NaD2                           0.398204\n",
       "e_NaD2                         0.004309\n",
       "f_RV                                  0\n",
       "FWHM_DRS                       7.117243\n",
       "CONTRAST_DRS                  50.866513\n",
       "BIS                           -0.010023\n",
       "RVGUESS                            24.3\n",
       "SNR_DRS                            32.1\n",
       "BJD_DRS                   2458322.83054\n",
       "BERV                          28.370753\n",
       "BERV_DRS                      28.370753\n",
       "DRIFT                               0.0\n",
       "e_DRIFT                             NaN\n",
       "SA                                  NaN\n",
       "NZP_mlc                       -1.250192\n",
       "dNZP_mlc                       0.742913\n",
       "NZP_drs                       -1.359053\n",
       "dNZP_drs                       1.345991\n",
       "TMMEAN                             0.47\n",
       "EXPTIME                       1199.9982\n",
       "MLCRX                          1.244926\n",
       "E_MLCRX                       14.724535\n",
       "TIMEID          2018-07-23T07:44:36.137\n",
       "DRIFT_LAMP                          NaN\n",
       "MASK                                 G2\n",
       "PROGID                   0101.C-0407(B)\n",
       "PROGPI                          UNKNOWN\n",
       "AIRMASS                             NaN\n",
       "OBHAB                 HARPS_ech_obs_all\n",
       "THAR_FP             HARPS_ech_obs_objAB\n",
       "DPR_TYPE                    STAR_SKY_G1\n",
       "RHKp                                NaN\n",
       "dRHKp                               NaN\n",
       "sourceflag                          NaN\n",
       "vsinflag                            NaN\n",
       "metflag                             NaN\n",
       "Name: 243865, dtype: object"
      ]
     },
     "execution_count": 10,
     "metadata": {},
     "output_type": "execute_result"
    }
   ],
   "source": [
    "distances = coords_all.separation(coords)\n",
    "idx = distances.argmin()\n",
    "df.iloc[idx]"
   ]
  },
  {
   "cell_type": "code",
   "execution_count": 30,
   "id": "8c01e6b9-9a13-4a81-a546-11ce82388057",
   "metadata": {},
   "outputs": [
    {
     "data": {
      "text/plain": [
       "41"
      ]
     },
     "execution_count": 30,
     "metadata": {},
     "output_type": "execute_result"
    }
   ],
   "source": [
    "sum(distances<30*u.deg)"
   ]
  },
  {
   "cell_type": "code",
   "execution_count": null,
   "id": "d98625e8-855a-4d15-9673-5bd52392e200",
   "metadata": {},
   "outputs": [],
   "source": []
  }
 ],
 "metadata": {
  "kernelspec": {
   "display_name": "tfop",
   "language": "python",
   "name": "tfop"
  },
  "language_info": {
   "codemirror_mode": {
    "name": "ipython",
    "version": 3
   },
   "file_extension": ".py",
   "mimetype": "text/x-python",
   "name": "python",
   "nbconvert_exporter": "python",
   "pygments_lexer": "ipython3",
   "version": "3.10.9"
  }
 },
 "nbformat": 4,
 "nbformat_minor": 5
}
